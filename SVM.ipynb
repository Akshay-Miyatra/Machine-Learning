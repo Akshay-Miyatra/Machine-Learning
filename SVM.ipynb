{
 "cells": [
  {
   "cell_type": "code",
   "execution_count": 2,
   "id": "61f8ee6d-9cd2-4c7d-8fcf-e01864fb359e",
   "metadata": {},
   "outputs": [
    {
     "name": "stdout",
     "output_type": "stream",
     "text": [
      "[40741.52675367]\n"
     ]
    },
    {
     "name": "stderr",
     "output_type": "stream",
     "text": [
      "C:\\Users\\atmiya\\AppData\\Local\\Programs\\Python\\Python310\\lib\\site-packages\\sklearn\\utils\\validation.py:1408: DataConversionWarning: A column-vector y was passed when a 1d array was expected. Please change the shape of y to (n_samples, ), for example using ravel().\n",
      "  y = column_or_1d(y, warn=True)\n"
     ]
    }
   ],
   "source": [
    "#svm \n",
    "\n",
    "import numpy as np\n",
    "from sklearn.svm import SVR\n",
    "\n",
    "#dataset\n",
    "x=np.array([[1],[2],[3],[4],[5]])\n",
    "y=np.array([[30000],[35000],[40000],[45000],[50000]])\n",
    "\n",
    "model=SVR(kernel='rbf',C=1000,epsilon=500)\n",
    "model.fit(x,y)\n",
    "\n",
    "#print \n",
    "print(model.predict([[6]]))\n"
   ]
  },
  {
   "cell_type": "code",
   "execution_count": null,
   "id": "33fdcbe3-67e1-43c4-8141-eb49a3dcc4f3",
   "metadata": {},
   "outputs": [],
   "source": []
  }
 ],
 "metadata": {
  "kernelspec": {
   "display_name": "Python 3 (ipykernel)",
   "language": "python",
   "name": "python3"
  },
  "language_info": {
   "codemirror_mode": {
    "name": "ipython",
    "version": 3
   },
   "file_extension": ".py",
   "mimetype": "text/x-python",
   "name": "python",
   "nbconvert_exporter": "python",
   "pygments_lexer": "ipython3",
   "version": "3.10.2"
  }
 },
 "nbformat": 4,
 "nbformat_minor": 5
}
